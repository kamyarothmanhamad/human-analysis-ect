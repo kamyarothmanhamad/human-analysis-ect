{
 "cells": [
  {
   "cell_type": "code",
   "execution_count": 8,
   "metadata": {},
   "outputs": [],
   "source": [
    "from ect import compute_ect_for_label\n",
    "from dataset import HumanPointCloudDataset, analyze_dataset_info, compare_dataset_samples"
   ]
  },
  {
   "cell_type": "code",
   "execution_count": null,
   "metadata": {},
   "outputs": [],
   "source": [
    "# remote server paths\n",
    "vertices_path = \"./data/reoriented_vertices.hdf5\"\n",
    "labels_path = \"./data/cihp_vertex_labels.hdf5\"\n",
    "\n",
    "# local machine paths\n",
    "vertices_path = \"/media/kamyar/669AE7069AE6D19B/Users/othma/Downloads/reoriented_vertices.hdf5\"\n",
    "labels_path = \"/media/kamyar/669AE7069AE6D19B/Users/othma/Downloads/cihp_vertex_labels.hdf5\""
   ]
  },
  {
   "cell_type": "code",
   "execution_count": 3,
   "metadata": {},
   "outputs": [],
   "source": [
    "dataset = HumanPointCloudDataset(\n",
    "    vertices_hdf5_path=vertices_path,\n",
    "    labels_hdf5_path=labels_path,\n",
    "    normalize=True\n",
    ")\n"
   ]
  },
  {
   "cell_type": "code",
   "execution_count": 4,
   "metadata": {},
   "outputs": [
    {
     "name": "stdout",
     "output_type": "stream",
     "text": [
      "Visualizing Training Sample 22\n",
      "Points: 1499997, Unique labels: 10\n"
     ]
    }
   ],
   "source": [
    "dataset.visualize_sample(22, train=True, with_normals=False, with_default_view=True)"
   ]
  },
  {
   "cell_type": "code",
   "execution_count": 6,
   "metadata": {},
   "outputs": [
    {
     "name": "stdout",
     "output_type": "stream",
     "text": [
      "Computing ECT for label 2: 277364 points\n"
     ]
    },
    {
     "data": {
      "text/plain": [
       "{'ect_features': tensor([[3.7276e-05, 4.1520e-05, 5.7453e-06,  ..., 1.2204e-04, 6.5607e-05,\n",
       "          9.3856e-05],\n",
       "         [6.2455e-05, 6.9565e-05, 9.6263e-06,  ..., 2.0445e-04, 1.0992e-04,\n",
       "          1.5724e-04],\n",
       "         [1.0464e-04, 1.1655e-04, 1.6129e-05,  ..., 3.4249e-04, 1.8414e-04,\n",
       "          2.6342e-04],\n",
       "         ...,\n",
       "         [9.8627e-01, 9.8833e-01, 9.1634e-01,  ..., 9.9653e-01, 9.9086e-01,\n",
       "          9.9560e-01],\n",
       "         [9.9243e-01, 9.9357e-01, 9.4744e-01,  ..., 9.9856e-01, 9.9451e-01,\n",
       "          9.9769e-01],\n",
       "         [9.9582e-01, 9.9635e-01, 9.6761e-01,  ..., 9.9952e-01, 9.9779e-01,\n",
       "          9.9882e-01]]),\n",
       " 'num_points': 277364,\n",
       " 'label': 2,\n",
       " 'sample_idx': 22,\n",
       " 'filtered_points': array([[ 0.05305869,  0.943851  ,  0.20144667],\n",
       "        [ 0.0445837 ,  0.9381565 ,  0.20642935],\n",
       "        [ 0.0548827 ,  0.93958014,  0.19948919],\n",
       "        ...,\n",
       "        [ 0.04949963,  0.75878024, -0.11344051],\n",
       "        [ 0.04785357,  0.75664485, -0.11326256],\n",
       "        [ 0.04480614,  0.75806844, -0.1127287 ]],\n",
       "       shape=(277364, 3), dtype=float32)}"
      ]
     },
     "execution_count": 6,
     "metadata": {},
     "output_type": "execute_result"
    }
   ],
   "source": [
    "compute_ect_for_label(dataset, sample_idx=22, target_label=2, train=True)"
   ]
  }
 ],
 "metadata": {
  "kernelspec": {
   "display_name": "ect",
   "language": "python",
   "name": "python3"
  },
  "language_info": {
   "codemirror_mode": {
    "name": "ipython",
    "version": 3
   },
   "file_extension": ".py",
   "mimetype": "text/x-python",
   "name": "python",
   "nbconvert_exporter": "python",
   "pygments_lexer": "ipython3",
   "version": "3.11.13"
  }
 },
 "nbformat": 4,
 "nbformat_minor": 2
}
